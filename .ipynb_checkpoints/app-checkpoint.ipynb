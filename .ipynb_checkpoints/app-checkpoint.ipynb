{
 "cells": [
  {
   "cell_type": "markdown",
   "metadata": {},
   "source": [
    "**Hemp Classifier using fast.ai**\n",
    "\n",
    "2020-08-27"
   ]
  },
  {
   "cell_type": "code",
   "execution_count": 1,
   "metadata": {},
   "outputs": [],
   "source": [
    "!pip install -Uqq fastbook"
   ]
  },
  {
   "cell_type": "code",
   "execution_count": 7,
   "metadata": {},
   "outputs": [
    {
     "name": "stdout",
     "output_type": "stream",
     "text": [
      "Requirement already satisfied: voila in d:\\dev\\anaconda\\envs\\fastai\\lib\\site-packages (0.1.22)\n",
      "Requirement already satisfied: pygments<3,>=2.4.1 in d:\\dev\\anaconda\\envs\\fastai\\lib\\site-packages (from voila) (2.6.1)\n",
      "Requirement already satisfied: jupyter-server<0.2.0,>=0.1.0 in d:\\dev\\anaconda\\envs\\fastai\\lib\\site-packages (from voila) (0.1.1)\n",
      "Requirement already satisfied: async-generator in d:\\dev\\anaconda\\envs\\fastai\\lib\\site-packages (from voila) (1.10)\n",
      "Requirement already satisfied: jupyterlab-pygments<0.2,>=0.1.0 in d:\\dev\\anaconda\\envs\\fastai\\lib\\site-packages (from voila) (0.1.1)\n",
      "Requirement already satisfied: nbconvert<6,>=5.5.0 in d:\\dev\\anaconda\\envs\\fastai\\lib\\site-packages (from voila) (5.6.1)\n",
      "Requirement already satisfied: pyzmq>=17 in d:\\dev\\anaconda\\envs\\fastai\\lib\\site-packages (from jupyter-server<0.2.0,>=0.1.0->voila) (19.0.1)\n",
      "Requirement already satisfied: nbformat in d:\\dev\\anaconda\\envs\\fastai\\lib\\site-packages (from jupyter-server<0.2.0,>=0.1.0->voila) (5.0.7)\n",
      "Requirement already satisfied: terminado>=0.8.1 in d:\\dev\\anaconda\\envs\\fastai\\lib\\site-packages (from jupyter-server<0.2.0,>=0.1.0->voila) (0.8.3)\n",
      "Requirement already satisfied: ipykernel in d:\\dev\\anaconda\\envs\\fastai\\lib\\site-packages (from jupyter-server<0.2.0,>=0.1.0->voila) (5.3.4)\n",
      "Requirement already satisfied: prometheus-client in d:\\dev\\anaconda\\envs\\fastai\\lib\\site-packages (from jupyter-server<0.2.0,>=0.1.0->voila) (0.8.0)\n",
      "Requirement already satisfied: ipython-genutils in d:\\dev\\anaconda\\envs\\fastai\\lib\\site-packages (from jupyter-server<0.2.0,>=0.1.0->voila) (0.2.0)\n",
      "Requirement already satisfied: Send2Trash in d:\\dev\\anaconda\\envs\\fastai\\lib\\site-packages (from jupyter-server<0.2.0,>=0.1.0->voila) (1.5.0)\n",
      "Requirement already satisfied: traitlets>=4.2.1 in d:\\dev\\anaconda\\envs\\fastai\\lib\\site-packages (from jupyter-server<0.2.0,>=0.1.0->voila) (4.3.3)\n",
      "Requirement already satisfied: jupyter-core>=4.4.0 in d:\\dev\\anaconda\\envs\\fastai\\lib\\site-packages (from jupyter-server<0.2.0,>=0.1.0->voila) (4.6.3)\n",
      "Requirement already satisfied: tornado>=4 in d:\\dev\\anaconda\\envs\\fastai\\lib\\site-packages (from jupyter-server<0.2.0,>=0.1.0->voila) (6.0.4)\n",
      "Requirement already satisfied: jinja2 in d:\\dev\\anaconda\\envs\\fastai\\lib\\site-packages (from jupyter-server<0.2.0,>=0.1.0->voila) (2.11.2)\n",
      "Requirement already satisfied: jupyter-client>=5.3.1 in d:\\dev\\anaconda\\envs\\fastai\\lib\\site-packages (from jupyter-server<0.2.0,>=0.1.0->voila) (6.1.6)\n",
      "Requirement already satisfied: pandocfilters>=1.4.1 in d:\\dev\\anaconda\\envs\\fastai\\lib\\site-packages (from nbconvert<6,>=5.5.0->voila) (1.4.2)\n",
      "Requirement already satisfied: entrypoints>=0.2.2 in d:\\dev\\anaconda\\envs\\fastai\\lib\\site-packages (from nbconvert<6,>=5.5.0->voila) (0.3)\n",
      "Requirement already satisfied: testpath in d:\\dev\\anaconda\\envs\\fastai\\lib\\site-packages (from nbconvert<6,>=5.5.0->voila) (0.4.4)\n",
      "Requirement already satisfied: mistune<2,>=0.8.1 in d:\\dev\\anaconda\\envs\\fastai\\lib\\site-packages (from nbconvert<6,>=5.5.0->voila) (0.8.4)\n",
      "Requirement already satisfied: defusedxml in d:\\dev\\anaconda\\envs\\fastai\\lib\\site-packages (from nbconvert<6,>=5.5.0->voila) (0.6.0)\n",
      "Requirement already satisfied: bleach in d:\\dev\\anaconda\\envs\\fastai\\lib\\site-packages (from nbconvert<6,>=5.5.0->voila) (3.1.5)\n",
      "Requirement already satisfied: jsonschema!=2.5.0,>=2.4 in d:\\dev\\anaconda\\envs\\fastai\\lib\\site-packages (from nbformat->jupyter-server<0.2.0,>=0.1.0->voila) (3.0.2)\n",
      "Requirement already satisfied: ipython>=5.0.0 in d:\\dev\\anaconda\\envs\\fastai\\lib\\site-packages (from ipykernel->jupyter-server<0.2.0,>=0.1.0->voila) (7.16.1)\n",
      "Requirement already satisfied: six in d:\\dev\\anaconda\\envs\\fastai\\lib\\site-packages (from traitlets>=4.2.1->jupyter-server<0.2.0,>=0.1.0->voila) (1.15.0)\n",
      "Requirement already satisfied: decorator in d:\\dev\\anaconda\\envs\\fastai\\lib\\site-packages (from traitlets>=4.2.1->jupyter-server<0.2.0,>=0.1.0->voila) (4.4.2)\n",
      "Requirement already satisfied: pywin32>=1.0; sys_platform == \"win32\" in d:\\dev\\anaconda\\envs\\fastai\\lib\\site-packages (from jupyter-core>=4.4.0->jupyter-server<0.2.0,>=0.1.0->voila) (227)\n",
      "Requirement already satisfied: MarkupSafe>=0.23 in d:\\dev\\anaconda\\envs\\fastai\\lib\\site-packages (from jinja2->jupyter-server<0.2.0,>=0.1.0->voila) (1.1.1)\n",
      "Requirement already satisfied: python-dateutil>=2.1 in d:\\dev\\anaconda\\envs\\fastai\\lib\\site-packages (from jupyter-client>=5.3.1->jupyter-server<0.2.0,>=0.1.0->voila) (2.8.1)\n",
      "Requirement already satisfied: packaging in d:\\dev\\anaconda\\envs\\fastai\\lib\\site-packages (from bleach->nbconvert<6,>=5.5.0->voila) (20.4)\n",
      "Requirement already satisfied: webencodings in d:\\dev\\anaconda\\envs\\fastai\\lib\\site-packages (from bleach->nbconvert<6,>=5.5.0->voila) (0.5.1)\n",
      "Requirement already satisfied: setuptools in d:\\dev\\anaconda\\envs\\fastai\\lib\\site-packages (from jsonschema!=2.5.0,>=2.4->nbformat->jupyter-server<0.2.0,>=0.1.0->voila) (49.6.0.post20200814)\n",
      "Requirement already satisfied: pyrsistent>=0.14.0 in d:\\dev\\anaconda\\envs\\fastai\\lib\\site-packages (from jsonschema!=2.5.0,>=2.4->nbformat->jupyter-server<0.2.0,>=0.1.0->voila) (0.16.0)\n",
      "Requirement already satisfied: attrs>=17.4.0 in d:\\dev\\anaconda\\envs\\fastai\\lib\\site-packages (from jsonschema!=2.5.0,>=2.4->nbformat->jupyter-server<0.2.0,>=0.1.0->voila) (20.1.0)\n",
      "Requirement already satisfied: colorama; sys_platform == \"win32\" in d:\\dev\\anaconda\\envs\\fastai\\lib\\site-packages (from ipython>=5.0.0->ipykernel->jupyter-server<0.2.0,>=0.1.0->voila) (0.4.3)\n",
      "Requirement already satisfied: prompt-toolkit!=3.0.0,!=3.0.1,<3.1.0,>=2.0.0 in d:\\dev\\anaconda\\envs\\fastai\\lib\\site-packages (from ipython>=5.0.0->ipykernel->jupyter-server<0.2.0,>=0.1.0->voila) (3.0.5)\n",
      "Requirement already satisfied: backcall in d:\\dev\\anaconda\\envs\\fastai\\lib\\site-packages (from ipython>=5.0.0->ipykernel->jupyter-server<0.2.0,>=0.1.0->voila) (0.2.0)\n",
      "Requirement already satisfied: jedi>=0.10 in d:\\dev\\anaconda\\envs\\fastai\\lib\\site-packages (from ipython>=5.0.0->ipykernel->jupyter-server<0.2.0,>=0.1.0->voila) (0.17.2)\n",
      "Requirement already satisfied: pickleshare in d:\\dev\\anaconda\\envs\\fastai\\lib\\site-packages (from ipython>=5.0.0->ipykernel->jupyter-server<0.2.0,>=0.1.0->voila) (0.7.5)\n",
      "Requirement already satisfied: pyparsing>=2.0.2 in d:\\dev\\anaconda\\envs\\fastai\\lib\\site-packages (from packaging->bleach->nbconvert<6,>=5.5.0->voila) (2.4.7)\n",
      "Requirement already satisfied: wcwidth in d:\\dev\\anaconda\\envs\\fastai\\lib\\site-packages (from prompt-toolkit!=3.0.0,!=3.0.1,<3.1.0,>=2.0.0->ipython>=5.0.0->ipykernel->jupyter-server<0.2.0,>=0.1.0->voila) (0.2.5)\n",
      "Requirement already satisfied: parso<0.8.0,>=0.7.0 in d:\\dev\\anaconda\\envs\\fastai\\lib\\site-packages (from jedi>=0.10->ipython>=5.0.0->ipykernel->jupyter-server<0.2.0,>=0.1.0->voila) (0.7.0)\n"
     ]
    },
    {
     "name": "stderr",
     "output_type": "stream",
     "text": [
      "Could not find conda environment: fastai\n",
      "You can list all discoverable environments with `conda info --envs`.\n",
      "\n",
      "Enabling: voila\n",
      "- Writing config: C:\\Users\\admin\\.jupyter\n",
      "    - Validating...\n",
      "      voila 0.1.22 ok\n",
      "Enabling: —sys-prefix\n",
      "- Writing config: C:\\Users\\admin\\.jupyter\n",
      "    - Validating...\n",
      "Error loading server extension —sys-prefix\n",
      "      X is —sys-prefix importable?\n"
     ]
    }
   ],
   "source": [
    "!pip install voila\n",
    "\n",
    "!jupyter serverextension enable voila \n",
    "#!jupyter serverextension enable voila —sys-prefix"
   ]
  },
  {
   "cell_type": "code",
   "execution_count": 3,
   "metadata": {},
   "outputs": [
    {
     "name": "stderr",
     "output_type": "stream",
     "text": [
      "D:\\DEV\\Anaconda\\envs\\fastai\\lib\\site-packages\\fastbook\\__init__.py:21: UserWarning: Missing `graphviz` - please run `conda install fastbook`\n",
      "  except ModuleNotFoundError: warn(\"Missing `graphviz` - please run `conda install fastbook`\")\n"
     ]
    }
   ],
   "source": [
    "import fastbook\n",
    "\n",
    "fastbook.setup_book()\n",
    "\n",
    "from fastbook import *\n",
    "from fastai.vision.widgets import *"
   ]
  },
  {
   "cell_type": "code",
   "execution_count": 4,
   "metadata": {},
   "outputs": [],
   "source": [
    "path = Path()\n",
    "path.ls(file_exts='.pkl')\n",
    "learn_inf = load_learner(path/'export.pkl')"
   ]
  },
  {
   "cell_type": "code",
   "execution_count": 5,
   "metadata": {},
   "outputs": [],
   "source": [
    "btn_upload = widgets.FileUpload()\n",
    "btn_run = widgets.Button(description='Classify')\n",
    "out_pl = widgets.Output()\n",
    "lbl_pred = widgets.Label()\n",
    "\n",
    "def on_click_classify(change):\n",
    "    img = PILImage.create(btn_upload.data[-1])\n",
    "    out_pl.clear_output()\n",
    "    with out_pl: display(img.to_thumb(144,144))\n",
    "    pred,pred_idx,probs = learn_inf.predict(img)\n",
    "    lbl_pred.value = f'Prediction: {pred}; Probability: {probs[pred_idx]:.04f}'    \n",
    "\n",
    "btn_run.on_click(on_click_classify)"
   ]
  },
  {
   "cell_type": "code",
   "execution_count": 6,
   "metadata": {},
   "outputs": [
    {
     "data": {
      "application/vnd.jupyter.widget-view+json": {
       "model_id": "f41e7ce9f29f430b9289041a44dc3616",
       "version_major": 2,
       "version_minor": 0
      },
      "text/plain": [
       "VBox(children=(Label(value='Upload your plant image:'), FileUpload(value={}, description='Upload'), Button(des…"
      ]
     },
     "metadata": {},
     "output_type": "display_data"
    },
    {
     "data": {
      "text/html": [],
      "text/plain": [
       "<IPython.core.display.HTML object>"
      ]
     },
     "metadata": {},
     "output_type": "display_data"
    },
    {
     "data": {
      "text/html": [],
      "text/plain": [
       "<IPython.core.display.HTML object>"
      ]
     },
     "metadata": {},
     "output_type": "display_data"
    },
    {
     "data": {
      "text/html": [],
      "text/plain": [
       "<IPython.core.display.HTML object>"
      ]
     },
     "metadata": {},
     "output_type": "display_data"
    }
   ],
   "source": [
    "VBox([widgets.Label('Upload your plant image:'), btn_upload, btn_run, out_pl, lbl_pred])"
   ]
  },
  {
   "cell_type": "code",
   "execution_count": null,
   "metadata": {},
   "outputs": [],
   "source": []
  }
 ],
 "metadata": {
  "kernelspec": {
   "display_name": "Python 3",
   "language": "python",
   "name": "python3"
  },
  "language_info": {
   "codemirror_mode": {
    "name": "ipython",
    "version": 3
   },
   "file_extension": ".py",
   "mimetype": "text/x-python",
   "name": "python",
   "nbconvert_exporter": "python",
   "pygments_lexer": "ipython3",
   "version": "3.6.10"
  }
 },
 "nbformat": 4,
 "nbformat_minor": 4
}
